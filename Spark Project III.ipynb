{
 "cells": [
  {
   "cell_type": "markdown",
   "metadata": {
    "application/vnd.databricks.v1+cell": {
     "cellMetadata": {
      "byteLimit": 2048000,
      "rowLimit": 10000
     },
     "inputWidgets": {},
     "nuid": "ac1b30f9-a516-425c-8f1b-94c13f275e5e",
     "showTitle": false,
     "title": ""
    }
   },
   "source": [
    "<h1 style=\"color: red; text-align:center\">Publications of the Society for the Encouragement of National Industry</h1>\n",
    "<hr>\n",
    "<h3>❖ Authors:</h3>\n",
    "<p>IZMOUH Mariam<br>TATI Mohammed</p>\n",
    "<p style=\"text-align: right;\"><b>11-JUN | <span style=\"color: green;\">2023</span></b></p>"
   ]
  },
  {
   "cell_type": "markdown",
   "metadata": {
    "application/vnd.databricks.v1+cell": {
     "cellMetadata": {
      "byteLimit": 2048000,
      "rowLimit": 10000
     },
     "inputWidgets": {},
     "nuid": "0036c0ad-db66-4d20-91ef-a1cf0e8a3544",
     "showTitle": false,
     "title": ""
    }
   },
   "source": [
    "<h2 style=\"color: green\">Importing libraries needed</h2>"
   ]
  },
  {
   "cell_type": "code",
   "execution_count": 0,
   "metadata": {
    "application/vnd.databricks.v1+cell": {
     "cellMetadata": {
      "byteLimit": 2048000,
      "rowLimit": 10000
     },
     "inputWidgets": {},
     "nuid": "bba5fa8c-83e4-4c8b-90a2-d828c7fd2e6b",
     "showTitle": false,
     "title": ""
    }
   },
   "outputs": [],
   "source": [
    "# Data manipilation\n",
    "import pandas as pd\n",
    "\n",
    "# Scrapping tool\n",
    "from bs4 import BeautifulSoup\n",
    "from lxml import etree\n",
    "\n",
    "# progress bar\n",
    "from tqdm import tqdm\n",
    "\n",
    "# To get the HTTP requests\n",
    "import requests\n",
    "\n",
    "# To make sure we are scrapping the right data\n",
    "import re "
   ]
  },
  {
   "cell_type": "markdown",
   "metadata": {
    "application/vnd.databricks.v1+cell": {
     "cellMetadata": {
      "byteLimit": 2048000,
      "rowLimit": 10000
     },
     "inputWidgets": {},
     "nuid": "53a30f5f-b571-41c7-ad21-1b29af794dcd",
     "showTitle": false,
     "title": ""
    }
   },
   "source": [
    "<h2 style=\"color: green\">Data Scraping</h2>"
   ]
  },
  {
   "cell_type": "code",
   "execution_count": 0,
   "metadata": {
    "application/vnd.databricks.v1+cell": {
     "cellMetadata": {
      "byteLimit": 2048000,
      "rowLimit": 10000
     },
     "inputWidgets": {},
     "nuid": "ffe34d61-feec-484b-802c-b622af729fca",
     "showTitle": false,
     "title": ""
    },
    "collapsed": true
   },
   "outputs": [],
   "source": [
    "def scraper():\n",
    "    # DataFrame\n",
    "    data = {\"id\": [], \"year\": [], \"article\": [], \"theme\": []}\n",
    "    \n",
    "    # Initialize the progress bar once\n",
    "    total_iterations = 115\n",
    "    progress_bar = tqdm(total=total_iterations, desc='Progress', unit='iteration')\n",
    "    \n",
    "    # Counter\n",
    "    count = 0\n",
    "    \n",
    "    for i in range(1, 116):\n",
    "        progress_bar.update(1)\n",
    "        # HTML Page to scrap (1802-1910)\n",
    "        html = requests.get(f\"https://cnum.cnam.fr/pgi/redir.php?onglet=d&ident=BSPI.{i}\").text\n",
    "        \n",
    "        # Parsing the HTML\n",
    "        soup = BeautifulSoup(html, \"html.parser\")\n",
    "        dom = etree.HTML(str(soup))\n",
    "        \n",
    "        # Getting the <span> tags that containes the data needed\n",
    "        spans = soup.find_all('span', class_='row-label with-list2')\n",
    "        \n",
    "        for span in spans:\n",
    "            # getting the list of articales\n",
    "            for u in span.find_next_sibling('ul'):\n",
    "\n",
    "                a_tags = u.find_all('a')\n",
    "\n",
    "                for a in a_tags:\n",
    "                    count += 1\n",
    "                    # Record Id\n",
    "                    record_id = \"IT\"+\"{:06d}\".format(count)\n",
    "                    data[\"id\"].append(record_id)\n",
    "                    \n",
    "                    # Year\n",
    "                    year = dom.xpath('/html/body/div[1]/div/div[2]/ul/li[4]/text()')[0]\n",
    "                    data['year'].append(year)\n",
    "                    \n",
    "                    # Article\n",
    "                    data[\"article\"].append(a.text)\n",
    "                    \n",
    "                    # Theme\n",
    "                    data[\"theme\"].append(span.text)\n",
    "            \n",
    "    return data"
   ]
  },
  {
   "cell_type": "markdown",
   "metadata": {
    "application/vnd.databricks.v1+cell": {
     "cellMetadata": {
      "byteLimit": 2048000,
      "rowLimit": 10000
     },
     "inputWidgets": {},
     "nuid": "c70c8a9e-9247-4f6c-892f-8873d15342c0",
     "showTitle": false,
     "title": ""
    }
   },
   "source": [
    "<h3>Generating the data</h3>"
   ]
  },
  {
   "cell_type": "code",
   "execution_count": 0,
   "metadata": {
    "application/vnd.databricks.v1+cell": {
     "cellMetadata": {
      "byteLimit": 2048000,
      "rowLimit": 10000
     },
     "inputWidgets": {},
     "nuid": "914fd2c1-5f5f-482d-b4d4-726cdb05286a",
     "showTitle": false,
     "title": ""
    },
    "collapsed": true
   },
   "outputs": [
    {
     "output_type": "stream",
     "name": "stderr",
     "output_type": "stream",
     "text": [
      "\rProgress:   0%|          | 0/115 [00:00<?, ?iteration/s]\rProgress:   2%|▏         | 2/115 [00:00<00:30,  3.67iteration/s]\rProgress:   3%|▎         | 3/115 [00:00<00:34,  3.28iteration/s]\rProgress:   3%|▎         | 4/115 [00:01<00:28,  3.89iteration/s]\rProgress:   4%|▍         | 5/115 [00:01<00:28,  3.91iteration/s]\rProgress:   5%|▌         | 6/115 [00:01<00:27,  4.00iteration/s]\rProgress:   6%|▌         | 7/115 [00:01<00:23,  4.51iteration/s]\rProgress:   7%|▋         | 8/115 [00:01<00:23,  4.49iteration/s]\rProgress:   8%|▊         | 9/115 [00:02<00:24,  4.31iteration/s]\rProgress:   9%|▊         | 10/115 [00:02<00:26,  3.93iteration/s]\rProgress:  10%|▉         | 11/115 [00:02<00:26,  3.89iteration/s]\rProgress:  10%|█         | 12/115 [00:03<00:30,  3.36iteration/s]\rProgress:  11%|█▏        | 13/115 [00:03<00:36,  2.82iteration/s]\rProgress:  12%|█▏        | 14/115 [00:04<00:54,  1.86iteration/s]\rProgress:  13%|█▎        | 15/115 [00:05<00:58,  1.70iteration/s]\rProgress:  14%|█▍        | 16/115 [00:05<00:52,  1.87iteration/s]\rProgress:  15%|█▍        | 17/115 [00:06<00:48,  2.02iteration/s]\rProgress:  16%|█▌        | 18/115 [00:06<00:51,  1.88iteration/s]\rProgress:  17%|█▋        | 19/115 [00:07<00:49,  1.94iteration/s]\rProgress:  17%|█▋        | 20/115 [00:07<00:46,  2.03iteration/s]\rProgress:  18%|█▊        | 21/115 [00:08<00:59,  1.57iteration/s]\rProgress:  19%|█▉        | 22/115 [00:08<00:50,  1.84iteration/s]\rProgress:  20%|██        | 23/115 [00:09<00:45,  2.01iteration/s]\rProgress:  21%|██        | 24/115 [00:09<00:45,  2.02iteration/s]\rProgress:  22%|██▏       | 25/115 [00:10<00:43,  2.09iteration/s]\rProgress:  23%|██▎       | 26/115 [00:10<00:44,  1.98iteration/s]\rProgress:  23%|██▎       | 27/115 [00:11<00:44,  1.96iteration/s]\rProgress:  24%|██▍       | 28/115 [00:12<00:54,  1.59iteration/s]\rProgress:  25%|██▌       | 29/115 [00:12<00:48,  1.76iteration/s]\rProgress:  26%|██▌       | 30/115 [00:13<00:50,  1.69iteration/s]\rProgress:  27%|██▋       | 31/115 [00:13<00:51,  1.64iteration/s]\rProgress:  28%|██▊       | 32/115 [00:14<00:44,  1.87iteration/s]\rProgress:  29%|██▊       | 33/115 [00:14<00:38,  2.13iteration/s]\rProgress:  30%|██▉       | 34/115 [00:15<00:35,  2.31iteration/s]\rProgress:  30%|███       | 35/115 [00:15<00:33,  2.40iteration/s]\rProgress:  31%|███▏      | 36/115 [00:16<00:42,  1.88iteration/s]\rProgress:  32%|███▏      | 37/115 [00:16<00:38,  2.04iteration/s]\rProgress:  33%|███▎      | 38/115 [00:16<00:34,  2.25iteration/s]\rProgress:  34%|███▍      | 39/115 [00:17<00:31,  2.38iteration/s]\rProgress:  35%|███▍      | 40/115 [00:17<00:31,  2.38iteration/s]\rProgress:  36%|███▌      | 41/115 [00:18<00:29,  2.47iteration/s]\rProgress:  37%|███▋      | 42/115 [00:18<00:31,  2.30iteration/s]\rProgress:  37%|███▋      | 43/115 [00:18<00:30,  2.36iteration/s]\rProgress:  38%|███▊      | 44/115 [00:19<00:30,  2.32iteration/s]\rProgress:  39%|███▉      | 45/115 [00:20<00:39,  1.77iteration/s]\rProgress:  40%|████      | 46/115 [00:20<00:35,  1.92iteration/s]\rProgress:  41%|████      | 47/115 [00:21<00:34,  2.00iteration/s]\rProgress:  42%|████▏     | 48/115 [00:21<00:32,  2.06iteration/s]\rProgress:  43%|████▎     | 49/115 [00:22<00:30,  2.20iteration/s]\rProgress:  43%|████▎     | 50/115 [00:22<00:29,  2.22iteration/s]\rProgress:  44%|████▍     | 51/115 [00:22<00:29,  2.15iteration/s]\rProgress:  45%|████▌     | 52/115 [00:23<00:31,  2.03iteration/s]\rProgress:  46%|████▌     | 53/115 [00:24<00:37,  1.63iteration/s]\rProgress:  47%|████▋     | 54/115 [00:24<00:35,  1.74iteration/s]\rProgress:  48%|████▊     | 55/115 [00:25<00:30,  1.97iteration/s]\rProgress:  49%|████▊     | 56/115 [00:25<00:31,  1.88iteration/s]\rProgress:  50%|████▉     | 57/115 [00:27<00:45,  1.27iteration/s]\rProgress:  50%|█████     | 58/115 [00:27<00:38,  1.47iteration/s]\rProgress:  51%|█████▏    | 59/115 [00:28<00:33,  1.68iteration/s]\rProgress:  52%|█████▏    | 60/115 [00:28<00:29,  1.84iteration/s]\rProgress:  53%|█████▎    | 61/115 [00:28<00:27,  1.98iteration/s]\rProgress:  54%|█████▍    | 62/115 [00:29<00:24,  2.14iteration/s]\rProgress:  55%|█████▍    | 63/115 [00:30<00:30,  1.73iteration/s]\rProgress:  56%|█████▌    | 64/115 [00:30<00:26,  1.93iteration/s]\rProgress:  57%|█████▋    | 65/115 [00:30<00:24,  2.03iteration/s]\rProgress:  57%|█████▋    | 66/115 [00:31<00:22,  2.20iteration/s]\rProgress:  58%|█████▊    | 67/115 [00:31<00:22,  2.17iteration/s]\rProgress:  59%|█████▉    | 68/115 [00:32<00:20,  2.33iteration/s]\rProgress:  60%|██████    | 69/115 [00:32<00:19,  2.40iteration/s]\rProgress:  61%|██████    | 70/115 [00:32<00:18,  2.42iteration/s]\rProgress:  62%|██████▏   | 71/115 [00:33<00:17,  2.51iteration/s]\rProgress:  63%|██████▎   | 72/115 [00:33<00:17,  2.39iteration/s]\rProgress:  63%|██████▎   | 73/115 [00:34<00:23,  1.78iteration/s]\rProgress:  64%|██████▍   | 74/115 [00:34<00:20,  2.04iteration/s]\rProgress:  65%|██████▌   | 75/115 [00:35<00:18,  2.13iteration/s]\rProgress:  66%|██████▌   | 76/115 [00:35<00:17,  2.23iteration/s]\rProgress:  67%|██████▋   | 77/115 [00:36<00:16,  2.30iteration/s]\rProgress:  68%|██████▊   | 78/115 [00:36<00:15,  2.44iteration/s]\rProgress:  69%|██████▊   | 79/115 [00:36<00:13,  2.60iteration/s]\rProgress:  70%|██████▉   | 80/115 [00:37<00:13,  2.63iteration/s]\rProgress:  70%|███████   | 81/115 [00:37<00:12,  2.77iteration/s]\rProgress:  71%|███████▏  | 82/115 [00:37<00:11,  2.98iteration/s]\rProgress:  72%|███████▏  | 83/115 [00:38<00:09,  3.20iteration/s]\rProgress:  73%|███████▎  | 84/115 [00:38<00:08,  3.61iteration/s]\rProgress:  74%|███████▍  | 85/115 [00:38<00:12,  2.42iteration/s]\rProgress:  75%|███████▍  | 86/115 [00:39<00:10,  2.66iteration/s]\rProgress:  76%|███████▌  | 87/115 [00:39<00:09,  2.91iteration/s]\rProgress:  77%|███████▋  | 88/115 [00:39<00:08,  3.11iteration/s]\rProgress:  77%|███████▋  | 89/115 [00:40<00:08,  2.99iteration/s]\rProgress:  78%|███████▊  | 90/115 [00:40<00:08,  3.06iteration/s]\rProgress:  79%|███████▉  | 91/115 [00:40<00:07,  3.21iteration/s]\rProgress:  80%|████████  | 92/115 [00:41<00:06,  3.34iteration/s]\rProgress:  81%|████████  | 93/115 [00:41<00:06,  3.39iteration/s]\rProgress:  82%|████████▏ | 94/115 [00:41<00:05,  3.51iteration/s]\rProgress:  83%|████████▎ | 95/115 [00:41<00:06,  3.23iteration/s]\rProgress:  83%|████████▎ | 96/115 [00:42<00:06,  2.72iteration/s]\rProgress:  84%|████████▍ | 97/115 [00:42<00:06,  2.63iteration/s]\rProgress:  85%|████████▌ | 98/115 [00:43<00:08,  1.92iteration/s]\rProgress:  86%|████████▌ | 99/115 [00:44<00:08,  2.00iteration/s]\rProgress:  87%|████████▋ | 100/115 [00:44<00:06,  2.22iteration/s]\rProgress:  88%|████████▊ | 101/115 [00:44<00:05,  2.41iteration/s]\rProgress:  89%|████████▊ | 102/115 [00:45<00:05,  2.46iteration/s]\rProgress:  90%|████████▉ | 103/115 [00:45<00:04,  2.46iteration/s]\rProgress:  90%|█████████ | 104/115 [00:46<00:04,  2.49iteration/s]\rProgress:  91%|█████████▏| 105/115 [00:46<00:03,  2.53iteration/s]\rProgress:  92%|█████████▏| 106/115 [00:46<00:03,  2.32iteration/s]\rProgress:  93%|█████████▎| 107/115 [00:47<00:04,  1.92iteration/s]\rProgress:  94%|█████████▍| 108/115 [00:48<00:03,  1.76iteration/s]\rProgress:  95%|█████████▍| 109/115 [00:49<00:04,  1.37iteration/s]\rProgress:  96%|█████████▌| 110/115 [00:49<00:03,  1.52iteration/s]\rProgress:  97%|█████████▋| 111/115 [00:50<00:02,  1.62iteration/s]\rProgress:  97%|█████████▋| 112/115 [00:50<00:01,  1.69iteration/s]\rProgress:  98%|█████████▊| 113/115 [00:51<00:01,  1.83iteration/s]\rProgress:  99%|█████████▉| 114/115 [00:51<00:00,  2.11iteration/s]\rProgress: 100%|██████████| 115/115 [00:52<00:00,  2.26iteration/s]\rProgress: 100%|██████████| 115/115 [00:52<00:00,  2.20iteration/s]\n"
     ]
    }
   ],
   "source": [
    "df = pd.DataFrame(scraper())"
   ]
  },
  {
   "cell_type": "code",
   "execution_count": 0,
   "metadata": {
    "application/vnd.databricks.v1+cell": {
     "cellMetadata": {
      "byteLimit": 2048000,
      "rowLimit": 10000
     },
     "inputWidgets": {},
     "nuid": "72872186-f7fe-4084-9740-5c5ce2c84218",
     "showTitle": false,
     "title": ""
    },
    "collapsed": true
   },
   "outputs": [
    {
     "output_type": "display_data",
     "data": {
      "text/html": [
       "<div>\n",
       "<style scoped>\n",
       "    .dataframe tbody tr th:only-of-type {\n",
       "        vertical-align: middle;\n",
       "    }\n",
       "\n",
       "    .dataframe tbody tr th {\n",
       "        vertical-align: top;\n",
       "    }\n",
       "\n",
       "    .dataframe thead th {\n",
       "        text-align: right;\n",
       "    }\n",
       "</style>\n",
       "<table border=\"1\" class=\"dataframe\">\n",
       "  <thead>\n",
       "    <tr style=\"text-align: right;\">\n",
       "      <th></th>\n",
       "      <th>id</th>\n",
       "      <th>year</th>\n",
       "      <th>article</th>\n",
       "      <th>theme</th>\n",
       "    </tr>\n",
       "  </thead>\n",
       "  <tbody>\n",
       "    <tr>\n",
       "      <th>0</th>\n",
       "      <td>IT000001</td>\n",
       "      <td>&gt; 1802. An XI [1802]. 1e année</td>\n",
       "      <td>EXTRAIT des procès-verbaux des séances du Cons...</td>\n",
       "      <td>CONSEIL D'ADMINISTRATION (p.5)</td>\n",
       "    </tr>\n",
       "    <tr>\n",
       "      <th>1</th>\n",
       "      <td>IT000002</td>\n",
       "      <td>&gt; 1802. An XI [1802]. 1e année</td>\n",
       "      <td>PROGRAMMES des prix proposés parla Société (p.6)</td>\n",
       "      <td>CONSEIL D'ADMINISTRATION (p.5)</td>\n",
       "    </tr>\n",
       "    <tr>\n",
       "      <th>2</th>\n",
       "      <td>IT000003</td>\n",
       "      <td>&gt; 1802. An XI [1802]. 1e année</td>\n",
       "      <td>EXTRAIT d'un rapport fait à la Société d Encou...</td>\n",
       "      <td>ARTS MÉCANIQUES (p.7)</td>\n",
       "    </tr>\n",
       "    <tr>\n",
       "      <th>3</th>\n",
       "      <td>IT000004</td>\n",
       "      <td>&gt; 1802. An XI [1802]. 1e année</td>\n",
       "      <td>PROCÉDÉ pour presser et former les chapeaux de...</td>\n",
       "      <td>ARTS MÉCANIQUES (p.7)</td>\n",
       "    </tr>\n",
       "    <tr>\n",
       "      <th>4</th>\n",
       "      <td>IT000005</td>\n",
       "      <td>&gt; 1802. An XI [1802]. 1e année</td>\n",
       "      <td>RAPPORT fait , au nom du Comité des arts mécan...</td>\n",
       "      <td>ARTS MÉCANIQUES (p.7)</td>\n",
       "    </tr>\n",
       "  </tbody>\n",
       "</table>\n",
       "</div>"
      ]
     },
     "metadata": {
      "application/vnd.databricks.v1+output": {
       "addedWidgets": {},
       "arguments": {},
       "data": "<div>\n<style scoped>\n    .dataframe tbody tr th:only-of-type {\n        vertical-align: middle;\n    }\n\n    .dataframe tbody tr th {\n        vertical-align: top;\n    }\n\n    .dataframe thead th {\n        text-align: right;\n    }\n</style>\n<table border=\"1\" class=\"dataframe\">\n  <thead>\n    <tr style=\"text-align: right;\">\n      <th></th>\n      <th>id</th>\n      <th>year</th>\n      <th>article</th>\n      <th>theme</th>\n    </tr>\n  </thead>\n  <tbody>\n    <tr>\n      <th>0</th>\n      <td>IT000001</td>\n      <td>&gt; 1802. An XI [1802]. 1e année</td>\n      <td>EXTRAIT des procès-verbaux des séances du Cons...</td>\n      <td>CONSEIL D'ADMINISTRATION (p.5)</td>\n    </tr>\n    <tr>\n      <th>1</th>\n      <td>IT000002</td>\n      <td>&gt; 1802. An XI [1802]. 1e année</td>\n      <td>PROGRAMMES des prix proposés parla Société (p.6)</td>\n      <td>CONSEIL D'ADMINISTRATION (p.5)</td>\n    </tr>\n    <tr>\n      <th>2</th>\n      <td>IT000003</td>\n      <td>&gt; 1802. An XI [1802]. 1e année</td>\n      <td>EXTRAIT d'un rapport fait à la Société d Encou...</td>\n      <td>ARTS MÉCANIQUES (p.7)</td>\n    </tr>\n    <tr>\n      <th>3</th>\n      <td>IT000004</td>\n      <td>&gt; 1802. An XI [1802]. 1e année</td>\n      <td>PROCÉDÉ pour presser et former les chapeaux de...</td>\n      <td>ARTS MÉCANIQUES (p.7)</td>\n    </tr>\n    <tr>\n      <th>4</th>\n      <td>IT000005</td>\n      <td>&gt; 1802. An XI [1802]. 1e année</td>\n      <td>RAPPORT fait , au nom du Comité des arts mécan...</td>\n      <td>ARTS MÉCANIQUES (p.7)</td>\n    </tr>\n  </tbody>\n</table>\n</div>",
       "datasetInfos": [],
       "metadata": {},
       "removedWidgets": [],
       "textData": null,
       "type": "htmlSandbox"
      }
     },
     "output_type": "display_data"
    }
   ],
   "source": [
    "# Saving the data as CSV fo further precessing\n",
    "df.head()"
   ]
  },
  {
   "cell_type": "code",
   "execution_count": 0,
   "metadata": {
    "application/vnd.databricks.v1+cell": {
     "cellMetadata": {
      "byteLimit": 2048000,
      "rowLimit": 10000
     },
     "inputWidgets": {},
     "nuid": "7a824331-433e-4b39-84ff-15a15dea0105",
     "showTitle": false,
     "title": ""
    }
   },
   "outputs": [
    {
     "output_type": "stream",
     "name": "stdout",
     "output_type": "stream",
     "text": [
      "Out[84]: 128953"
     ]
    }
   ],
   "source": [
    "df.shape[0]"
   ]
  },
  {
   "cell_type": "markdown",
   "metadata": {
    "application/vnd.databricks.v1+cell": {
     "cellMetadata": {
      "byteLimit": 2048000,
      "rowLimit": 10000
     },
     "inputWidgets": {},
     "nuid": "b496cbf8-8159-4ebd-b516-156c28155ae1",
     "showTitle": false,
     "title": ""
    }
   },
   "source": [
    "<h2 style=\"color: green\">Data Cleaning Using Spark</h2>"
   ]
  },
  {
   "cell_type": "code",
   "execution_count": 0,
   "metadata": {
    "application/vnd.databricks.v1+cell": {
     "cellMetadata": {
      "byteLimit": 2048000,
      "implicitDf": true,
      "rowLimit": 10000
     },
     "inputWidgets": {},
     "nuid": "f19e2eba-1077-463a-b205-3762ed0c4735",
     "showTitle": false,
     "title": ""
    }
   },
   "outputs": [
    {
     "output_type": "display_data",
     "data": {
      "text/html": [
       "<style scoped>\n",
       "  .table-result-container {\n",
       "    max-height: 300px;\n",
       "    overflow: auto;\n",
       "  }\n",
       "  table, th, td {\n",
       "    border: 1px solid black;\n",
       "    border-collapse: collapse;\n",
       "  }\n",
       "  th, td {\n",
       "    padding: 5px;\n",
       "  }\n",
       "  th {\n",
       "    text-align: left;\n",
       "  }\n",
       "</style><div class='table-result-container'><table class='table-result'><thead style='background-color: white'><tr><th>id</th><th>year</th><th>article</th><th>theme</th></tr></thead><tbody><tr><td>IT000001</td><td> > 1802. An XI [1802]. 1e année</td><td>EXTRAIT des procès-verbaux des séances du Conseil (p.5)</td><td>CONSEIL D'ADMINISTRATION (p.5)</td></tr><tr><td>IT000002</td><td> > 1802. An XI [1802]. 1e année</td><td>PROGRAMMES des prix proposés parla Société (p.6)</td><td>CONSEIL D'ADMINISTRATION (p.5)</td></tr><tr><td>IT000003</td><td> > 1802. An XI [1802]. 1e année</td><td>EXTRAIT d'un rapport fait à la Société d Encouragement, au nom du Comité des arts mécaniques, par le C. Molard, sur les machines a filer la soie (p.7)</td><td>ARTS MÉCANIQUES (p.7)</td></tr><tr><td>IT000004</td><td> > 1802. An XI [1802]. 1e année</td><td>PROCÉDÉ pour presser et former les chapeaux de paille (p.8)</td><td>ARTS MÉCANIQUES (p.7)</td></tr><tr><td>IT000005</td><td> > 1802. An XI [1802]. 1e année</td><td>RAPPORT fait , au nom du Comité des arts mécaniques , sur la proposition du C. relative a un nouveau genre de construction, navale (p.11)</td><td>ARTS MÉCANIQUES (p.7)</td></tr></tbody></table></div>"
      ]
     },
     "metadata": {
      "application/vnd.databricks.v1+output": {
       "addedWidgets": {},
       "aggData": [],
       "aggError": "",
       "aggOverflow": false,
       "aggSchema": [],
       "aggSeriesLimitReached": false,
       "aggType": "",
       "arguments": {},
       "columnCustomDisplayInfos": {},
       "data": [
        [
         "IT000001",
         " > 1802. An XI [1802]. 1e année",
         "EXTRAIT des procès-verbaux des séances du Conseil (p.5)",
         "CONSEIL D'ADMINISTRATION (p.5)"
        ],
        [
         "IT000002",
         " > 1802. An XI [1802]. 1e année",
         "PROGRAMMES des prix proposés parla Société (p.6)",
         "CONSEIL D'ADMINISTRATION (p.5)"
        ],
        [
         "IT000003",
         " > 1802. An XI [1802]. 1e année",
         "EXTRAIT d'un rapport fait à la Société d Encouragement, au nom du Comité des arts mécaniques, par le C. Molard, sur les machines a filer la soie (p.7)",
         "ARTS MÉCANIQUES (p.7)"
        ],
        [
         "IT000004",
         " > 1802. An XI [1802]. 1e année",
         "PROCÉDÉ pour presser et former les chapeaux de paille (p.8)",
         "ARTS MÉCANIQUES (p.7)"
        ],
        [
         "IT000005",
         " > 1802. An XI [1802]. 1e année",
         "RAPPORT fait , au nom du Comité des arts mécaniques , sur la proposition du C. relative a un nouveau genre de construction, navale (p.11)",
         "ARTS MÉCANIQUES (p.7)"
        ]
       ],
       "datasetInfos": [],
       "dbfsResultPath": null,
       "isJsonSchema": true,
       "metadata": {},
       "overflow": false,
       "plotOptions": {
        "customPlotOptions": {},
        "displayType": "table",
        "pivotAggregation": null,
        "pivotColumns": null,
        "xColumns": null,
        "yColumns": null
       },
       "removedWidgets": [],
       "schema": [
        {
         "metadata": "{}",
         "name": "id",
         "type": "\"string\""
        },
        {
         "metadata": "{}",
         "name": "year",
         "type": "\"string\""
        },
        {
         "metadata": "{}",
         "name": "article",
         "type": "\"string\""
        },
        {
         "metadata": "{}",
         "name": "theme",
         "type": "\"string\""
        }
       ],
       "type": "table"
      }
     },
     "output_type": "display_data"
    }
   ],
   "source": [
    "%sql\n",
    "select * from hive_metastore.default.data  limit 5;  "
   ]
  },
  {
   "cell_type": "code",
   "execution_count": 0,
   "metadata": {
    "application/vnd.databricks.v1+cell": {
     "cellMetadata": {
      "byteLimit": 2048000,
      "rowLimit": 10000
     },
     "inputWidgets": {},
     "nuid": "a20b4b57-826b-4897-82cc-0448ef542dba",
     "showTitle": false,
     "title": ""
    }
   },
   "outputs": [
    {
     "output_type": "stream",
     "name": "stdout",
     "output_type": "stream",
     "text": [
      "Setup Comptele!\n"
     ]
    }
   ],
   "source": [
    "from pyspark.sql import SparkSession\n",
    "from pyspark.sql.functions import col, regexp_replace, desc, when\n",
    "from pyspark.sql.types import StringType\n",
    "from pyspark.sql.functions import udf\n",
    "\n",
    "# Create a SparkSession\n",
    "spark = SparkSession.builder.getOrCreate()\n",
    "\n",
    "# Read the CSV file into a DataFrame\n",
    "data = _sqldf\n",
    "print(\"Setup Comptele!\")"
   ]
  },
  {
   "cell_type": "code",
   "execution_count": 0,
   "metadata": {
    "application/vnd.databricks.v1+cell": {
     "cellMetadata": {
      "byteLimit": 2048000,
      "rowLimit": 10000
     },
     "inputWidgets": {},
     "nuid": "ab66aea1-588d-4f6d-bd94-c43ebea651c4",
     "showTitle": false,
     "title": ""
    }
   },
   "outputs": [],
   "source": [
    "# Define the cleaning function as a UDF (User-Defined Function)\n",
    "def cleaning(x):\n",
    "    x = x.strip()\n",
    "    x = x.split('(')[0]\n",
    "    x = x.strip()\n",
    "    return x.lower()\n",
    "\n",
    "# Register the cleaning function as a UDF\n",
    "cleaning_udf = udf(cleaning, StringType())\n",
    "\n",
    "# Define the year_cleaning function as a UDF (User-Defined Function)\n",
    "def year_cleaning(x):\n",
    "    r = x.strip()\n",
    "    r = r.split('>')[1]\n",
    "    r = r.split('.')[0]\n",
    "    r = r.strip()\n",
    "    \n",
    "    return r\n",
    "\n",
    "# Register the year_cleaning function as a UDF\n",
    "year_cleaning_udf = udf(year_cleaning, StringType())\n",
    "\n",
    "def theme_cleaning(x):    \n",
    "    if len(x) == 1:\n",
    "        return None\n",
    "    \n",
    "    return x.lower()\n",
    "\n",
    "# Register the year_cleaning function as a UDF\n",
    "theme_cleaning_udf = udf(theme_cleaning, StringType())\n",
    "\n",
    "def clean_phase1(data):\n",
    "    # Drop rows with missing values\n",
    "    data = data.na.drop()\n",
    "    \n",
    "    # Apply the cleaning function to the 'theme' column and assign the result to a new column\n",
    "    data = data.withColumn('theme', cleaning_udf(data['theme']))\n",
    "    data = data.withColumn('article', cleaning_udf(data['article']))\n",
    "    data = data.withColumn('year', year_cleaning_udf(data['year']))\n",
    "    data = data.withColumn('theme', theme_cleaning_udf(data['theme']))\n",
    "\n",
    "    # Drop rows with missing values\n",
    "    data = data.na.drop()\n",
    "    \n",
    "    data = data.filter(~col('article').like('%prix%'))\n",
    "    data = data.filter(~col('theme').like('%prix%'))\n",
    "    data = data.filter(~col('theme').like('%programme%'))\n",
    "    return data"
   ]
  },
  {
   "cell_type": "code",
   "execution_count": 0,
   "metadata": {
    "application/vnd.databricks.v1+cell": {
     "cellMetadata": {
      "byteLimit": 2048000,
      "rowLimit": 10000
     },
     "inputWidgets": {},
     "nuid": "4a99376a-0c1c-458b-8c73-82cc7ed86ea9",
     "showTitle": false,
     "title": ""
    }
   },
   "outputs": [
    {
     "output_type": "stream",
     "name": "stdout",
     "output_type": "stream",
     "text": [
      "+--------+----+--------------------+--------------------+\n|      id|year|             article|               theme|\n+--------+----+--------------------+--------------------+\n|IT000001|1802|extrait des procè...|conseil d'adminis...|\n|IT000003|1802|extrait d'un rapp...|     arts mécaniques|\n|IT000004|1802|procédé pour pres...|     arts mécaniques|\n|IT000005|1802|rapport fait , au...|     arts mécaniques|\n|IT000006|1802|rapport fait par ...|      arts chimiques|\n|IT000007|1802|sur l'éducation d...|         agriculture|\n|IT000008|1802|     rats des champs|         agriculture|\n|IT000009|1802|            arachide|         agriculture|\n|IT000010|1802|traitê des constr...|         agriculture|\n|IT000012|1802|nouveau fourneau ...| économie domestique|\n|IT000013|1802|extrait du rappor...| économie domestique|\n|IT000014|1802|notice sur une fo...| économie domestique|\n|IT000015|1802|fourneaux économi...| économie domestique|\n|IT000016|1802|tableau des princ...| économie domestique|\n|IT000017|1802|ouvrages périodiq...| économie domestique|\n|IT000018|1802|livres principaux...| économie domestique|\n|IT000019|1802|extrait de rassem...|conseil d'adminis...|\n|IT000020|1802|pour la commissio...|conseil d'adminis...|\n|IT000021|1802|pour les arts méc...|conseil d'adminis...|\n|IT000022|1802|pour les arts chi...|conseil d'adminis...|\n+--------+----+--------------------+--------------------+\nonly showing top 20 rows\n\n"
     ]
    }
   ],
   "source": [
    "# Apply the clean_phase1 function to the data DataFrame\n",
    "cleaned_data = clean_phase1(data)\n",
    "\n",
    "# Show the cleaned data\n",
    "cleaned_data.show()"
   ]
  },
  {
   "cell_type": "code",
   "execution_count": 0,
   "metadata": {
    "application/vnd.databricks.v1+cell": {
     "cellMetadata": {
      "byteLimit": 2048000,
      "rowLimit": 10000
     },
     "inputWidgets": {},
     "nuid": "10a6cba9-2ca9-4f0b-9bb4-d978d56ac312",
     "showTitle": false,
     "title": ""
    }
   },
   "outputs": [
    {
     "output_type": "stream",
     "name": "stdout",
     "output_type": "stream",
     "text": [
      "Out[9]: 47241"
     ]
    }
   ],
   "source": [
    "cleaned_data.count()"
   ]
  },
  {
   "cell_type": "code",
   "execution_count": 0,
   "metadata": {
    "application/vnd.databricks.v1+cell": {
     "cellMetadata": {
      "byteLimit": 2048000,
      "rowLimit": 10000
     },
     "inputWidgets": {},
     "nuid": "31fa6d68-672d-4874-bf4d-e8dc5562fbdf",
     "showTitle": false,
     "title": ""
    }
   },
   "outputs": [],
   "source": [
    "# Create a new column with replaced values\n",
    "df = cleaned_data.withColumn(\"theme\", when(col(\"theme\").like(\"%physique%\") |\n",
    "                                      col(\"theme\").like(\"%mécanique%\") |\n",
    "                                      col(\"theme\").like(\"%mecanique%\") |\n",
    "                                      col(\"theme\").like(\"%électricité%\") |\n",
    "                                      col(\"theme\").like(\"%arts physiques%\") |\n",
    "                                      col(\"theme\").like(\"%machines-outils%\") |\n",
    "                                      col(\"theme\").like(\"%horlogerie%\") |\n",
    "                                      col(\"theme\").like(\"%méganiques%\") |\n",
    "                                      col(\"theme\").like(\"%metallurgie%\") |\n",
    "                                      col(\"theme\").like(\"%métallurgie%\") |     \n",
    "                                      col(\"theme\").like(\"%méc.anique%\"), \"arts mécaniques\")\n",
    "                                 .otherwise(col(\"theme\")))\n",
    "\n",
    "# Create a new column with replaced values\n",
    "df = df.withColumn(\"theme\", when(col(\"theme\").like(\"%combustibles%\") |\n",
    "                                      col(\"theme\").like(\"%chimi%\") |\n",
    "                                      col(\"theme\").like(\"%chemins de fer%\"), \"arts chimiques\")\n",
    "                                 .otherwise(col(\"theme\")))\n",
    "\n",
    "\n",
    "# Create a new column with replaced values\n",
    "df = df.withColumn(\"theme\", when(col(\"theme\").like(\"%conseil%\"), \"conseil d'administration\")\n",
    "                                 .otherwise(col(\"theme\")))\n",
    "\n",
    "# Create a new column with replaced values\n",
    "df = df.withColumn(\"theme\", when(col(\"theme\").like(\"%industrie%\") |\n",
    "                                 col(\"theme\").like(\"%céramique%\")|\n",
    "                                 col(\"theme\").like(\"%constructions%\") \n",
    "                                 , \"industriel\")\n",
    "                                 .otherwise(col(\"theme\")))\n",
    "\n",
    "# Create a new column with replaced values\n",
    "df = df.withColumn(\"theme\", when(col(\"theme\").like(\"%commerce%\") |\n",
    "                                 col(\"theme\").like(\"%économi%\") |\n",
    "                                 col(\"theme\").like(\"%financier%\") |\n",
    "                                 col(\"theme\").like(\"%economi%\") \n",
    "                                 , \"arts économiques\")\n",
    "                                 .otherwise(col(\"theme\")))\n",
    "\n",
    "# Create a new column with replaced values\n",
    "df = df.withColumn(\"theme\", when(col(\"theme\").like(\"%engrais%\") |\n",
    "                                      col(\"theme\").like(\"%sériciculture%\") |\n",
    "                                      col(\"theme\").like(\"%viticulture%\") |\n",
    "                                 col(\"theme\").like(\"%agriculture%\") |\n",
    "                                      col(\"theme\").like(\"%agronomie%\"), \"agriculture\")\n",
    "                                 .otherwise(col(\"theme\")))\n",
    "\n",
    "# Create a new column with replaced values\n",
    "df = df.withColumn(\"theme\", when(col(\"theme\").like(\"%bibliographie%\"), \"bibliographie\")\n",
    "                                 .otherwise(col(\"theme\")))"
   ]
  },
  {
   "cell_type": "code",
   "execution_count": 0,
   "metadata": {
    "application/vnd.databricks.v1+cell": {
     "cellMetadata": {
      "byteLimit": 2048000,
      "rowLimit": 10000
     },
     "inputWidgets": {},
     "nuid": "2af3ffb3-7451-4ce4-9917-f76da6c0f528",
     "showTitle": false,
     "title": ""
    }
   },
   "outputs": [],
   "source": [
    "group_by = df.groupBy('theme').count().orderBy(desc(\"count\"))"
   ]
  },
  {
   "cell_type": "code",
   "execution_count": 0,
   "metadata": {
    "application/vnd.databricks.v1+cell": {
     "cellMetadata": {
      "byteLimit": 2048000,
      "rowLimit": 10000
     },
     "inputWidgets": {},
     "nuid": "c7a9a914-a896-4ae3-a12b-fe61c6f0e40c",
     "showTitle": false,
     "title": ""
    }
   },
   "outputs": [
    {
     "output_type": "stream",
     "name": "stdout",
     "output_type": "stream",
     "text": [
      "+--------------------+-----+\n|               theme|count|\n+--------------------+-----+\n|     arts mécaniques|14817|\n|          industriel| 6448|\n|      arts chimiques| 5371|\n|    arts économiques| 4102|\n|conseil d'adminis...| 3962|\n|         agriculture| 2315|\n|       bibliographie| 1167|\n|procès-verbaux de...|  512|\n|           médailles|  471|\n|              marine|  423|\n|exposition univer...|  368|\n|distribution des ...|  363|\n|   ouvrages nouveaux|  236|\n|exposition univer...|  231|\n|médailles d'encou...|  218|\n|             hygiène|  199|\n|          nécrologie|  195|\n|          métrologie|  157|\n|distribution des ...|  150|\n|            aviation|  113|\n|exposition univer...|  111|\n|statistique de la...|  111|\n|       art des mines|  103|\n|            mémoires|   97|\n|          biographie|   95|\n|      correspondance|   92|\n|exposition de vienne|   91|\n|pièces justificat...|   91|\n|         pyrotechnie|   86|\n|     travaux publics|   84|\n|                    |   82|\n|statistique comme...|   81|\n|histoire des scie...|   79|\n|commission des fonds|   75|\n|instruments de pr...|   72|\n|revue des périodi...|   71|\n|          beaux-arts|   70|\n|travaux de la com...|   68|\n|   machines a vapeur|   58|\n|          navigation|   57|\n|            concours|   52|\n|               mines|   52|\n|        photographie|   50|\n|medailles d'encou...|   50|\n|             annexes|   50|\n|epuration biologi...|   47|\n|         electricité|   46|\n|télégraphie élect...|   45|\n|exposition univer...|   45|\n|     notes de voyage|   43|\n|expositions unive...|   43|\n|géohydrologie san...|   39|\n|bulletin bibliogr...|   38|\n|            teinture|   37|\n|       paratonnerres|   36|\n|        enseignement|   33|\n|    éclairage au gaz|   33|\n|             tissage|   32|\n|              tissus|   31|\n| ordonnances royales|   31|\n|appareils télégra...|   31|\n|    essai des métaux|   30|\n|exposition univer...|   30|\n|des récents progr...|   30|\n|livres et ouvrage...|   29|\n| chaudières a vapeur|   28|\n|     gaz d'éclairage|   28|\n| notice nécrologique|   28|\n|          astronomie|   27|\n|                 p1r|   27|\n|      procès-verbaux|   27|\n|médailles de cont...|   27|\n|exposition univer...|   26|\n|éclairage électrique|   26|\n|canal maritime de...|   25|\n|           sauvetage|   25|\n| brevets d'invention|   24|\n|exposition univer...|   24|\n|exposition univer...|   24|\n|      photosculpture|   23|\n|        pisciculture|   23|\n|           éclairage|   23|\n|         statistique|   22|\n|exposition univer...|   22|\n|         chapitre ii|   22|\n|séance générale d...|   22|\n|      assainissement|   21|\n|exposition univer...|   21|\n|                 v z|   21|\n|     arts mécaniqùes|   21|\n|              métaux|   20|\n|            couleurs|   20|\n|         armes a feu|   20|\n|         aérostation|   20|\n|séance générale d...|   19|\n|           salubrité|   18|\n|résistance des ma...|   18|\n|decrets et ordonn...|   18|\n|institution scien...|   18|\n|     puits artésiens|   18|\n+--------------------+-----+\nonly showing top 100 rows\n\n"
     ]
    }
   ],
   "source": [
    "group_by.show(100)"
   ]
  },
  {
   "cell_type": "code",
   "execution_count": 0,
   "metadata": {
    "application/vnd.databricks.v1+cell": {
     "cellMetadata": {
      "byteLimit": 2048000,
      "rowLimit": 10000
     },
     "inputWidgets": {},
     "nuid": "a5ef3160-d20d-4d4c-92cb-7711eb673ab3",
     "showTitle": false,
     "title": ""
    }
   },
   "outputs": [],
   "source": [
    "filtered_data = group_by.filter(group_by['count'] >= 100)"
   ]
  },
  {
   "cell_type": "code",
   "execution_count": 0,
   "metadata": {
    "application/vnd.databricks.v1+cell": {
     "cellMetadata": {
      "byteLimit": 2048000,
      "rowLimit": 10000
     },
     "inputWidgets": {},
     "nuid": "d71426b8-4c3e-452e-a855-fc32671b65db",
     "showTitle": false,
     "title": ""
    }
   },
   "outputs": [
    {
     "output_type": "stream",
     "name": "stdout",
     "output_type": "stream",
     "text": [
      "+--------------------+-----+\n|               theme|count|\n+--------------------+-----+\n|     arts mécaniques|14817|\n|          industriel| 6448|\n|      arts chimiques| 5371|\n|    arts économiques| 4102|\n|conseil d'adminis...| 3962|\n|         agriculture| 2315|\n|       bibliographie| 1167|\n|procès-verbaux de...|  512|\n|           médailles|  471|\n|              marine|  423|\n|exposition univer...|  368|\n|distribution des ...|  363|\n|   ouvrages nouveaux|  236|\n|exposition univer...|  231|\n|médailles d'encou...|  218|\n|             hygiène|  199|\n|          nécrologie|  195|\n|          métrologie|  157|\n|distribution des ...|  150|\n|            aviation|  113|\n+--------------------+-----+\nonly showing top 20 rows\n\n"
     ]
    }
   ],
   "source": [
    "filtered_data.show()"
   ]
  },
  {
   "cell_type": "code",
   "execution_count": 0,
   "metadata": {
    "application/vnd.databricks.v1+cell": {
     "cellMetadata": {
      "byteLimit": 2048000,
      "rowLimit": 10000
     },
     "inputWidgets": {},
     "nuid": "da3eabb3-314f-477b-9370-d7835226272c",
     "showTitle": false,
     "title": ""
    }
   },
   "outputs": [],
   "source": [
    "themes = filtered_data.select('theme').rdd.flatMap(lambda x: x).collect()"
   ]
  },
  {
   "cell_type": "code",
   "execution_count": 0,
   "metadata": {
    "application/vnd.databricks.v1+cell": {
     "cellMetadata": {
      "byteLimit": 2048000,
      "rowLimit": 10000
     },
     "inputWidgets": {},
     "nuid": "f9fb7e1e-b715-4cf4-8af5-1d4f987804d2",
     "showTitle": false,
     "title": ""
    }
   },
   "outputs": [
    {
     "output_type": "display_data",
     "data": {
      "text/plain": [
       ""
      ]
     },
     "metadata": {
      "application/vnd.databricks.v1+output": {
       "arguments": {},
       "data": "",
       "errorSummary": "Command skipped",
       "errorTraceType": "ansi",
       "metadata": {},
       "type": "ipynbError"
      }
     },
     "output_type": "display_data"
    }
   ],
   "source": [
    "type(themes)"
   ]
  },
  {
   "cell_type": "code",
   "execution_count": 0,
   "metadata": {
    "application/vnd.databricks.v1+cell": {
     "cellMetadata": {
      "byteLimit": 2048000,
      "rowLimit": 10000
     },
     "inputWidgets": {},
     "nuid": "3de748bc-e268-4f1c-aef9-830282efa746",
     "showTitle": false,
     "title": ""
    }
   },
   "outputs": [
    {
     "output_type": "stream",
     "name": "stdout",
     "output_type": "stream",
     "text": [
      "+--------+----+--------------------+--------------------+\n|      id|year|             article|               theme|\n+--------+----+--------------------+--------------------+\n|IT000001|1802|extrait des procè...|conseil d'adminis...|\n|IT000003|1802|extrait d'un rapp...|     arts mécaniques|\n|IT000004|1802|procédé pour pres...|     arts mécaniques|\n|IT000005|1802|rapport fait , au...|     arts mécaniques|\n|IT000006|1802|rapport fait par ...|      arts chimiques|\n|IT000007|1802|sur l'éducation d...|         agriculture|\n|IT000008|1802|     rats des champs|         agriculture|\n|IT000009|1802|            arachide|         agriculture|\n|IT000010|1802|traitê des constr...|         agriculture|\n|IT000012|1802|nouveau fourneau ...|    arts économiques|\n|IT000013|1802|extrait du rappor...|    arts économiques|\n|IT000014|1802|notice sur une fo...|    arts économiques|\n|IT000015|1802|fourneaux économi...|    arts économiques|\n|IT000016|1802|tableau des princ...|    arts économiques|\n|IT000017|1802|ouvrages périodiq...|    arts économiques|\n|IT000018|1802|livres principaux...|    arts économiques|\n|IT000019|1802|extrait de rassem...|conseil d'adminis...|\n|IT000020|1802|pour la commissio...|conseil d'adminis...|\n|IT000021|1802|pour les arts méc...|conseil d'adminis...|\n|IT000022|1802|pour les arts chi...|conseil d'adminis...|\n+--------+----+--------------------+--------------------+\nonly showing top 20 rows\n\n"
     ]
    }
   ],
   "source": [
    "# Assuming the given DataFrame is named 'df' and the other DataFrame is named 'other_df'\n",
    "\n",
    "origin_data = df.filter(col(\"theme\").isin(themes))\n",
    "\n",
    "origin_data.show()"
   ]
  },
  {
   "cell_type": "code",
   "execution_count": 0,
   "metadata": {
    "application/vnd.databricks.v1+cell": {
     "cellMetadata": {
      "byteLimit": 2048000,
      "rowLimit": 10000
     },
     "inputWidgets": {},
     "nuid": "dd50777a-ddaf-4a23-b9f0-6a59c29c45ed",
     "showTitle": false,
     "title": ""
    }
   },
   "outputs": [
    {
     "output_type": "stream",
     "name": "stdout",
     "output_type": "stream",
     "text": [
      "+--------------------+\n|               theme|\n+--------------------+\n|    arts économiques|\n|          nécrologie|\n|exposition univer...|\n|   ouvrages nouveaux|\n|      arts chimiques|\n|          métrologie|\n|         agriculture|\n|              marine|\n|exposition univer...|\n|     arts mécaniques|\n|exposition univer...|\n|       art des mines|\n|conseil d'adminis...|\n|           médailles|\n|          industriel|\n|statistique de la...|\n|médailles d'encou...|\n|             hygiène|\n|distribution des ...|\n|distribution des ...|\n+--------------------+\nonly showing top 20 rows\n\n"
     ]
    }
   ],
   "source": [
    "unique_names = origin_data.select(\"theme\").distinct()\n",
    "\n",
    "# Show the unique names\n",
    "unique_names.show()"
   ]
  },
  {
   "cell_type": "code",
   "execution_count": 0,
   "metadata": {
    "application/vnd.databricks.v1+cell": {
     "cellMetadata": {
      "byteLimit": 2048000,
      "rowLimit": 10000
     },
     "inputWidgets": {},
     "nuid": "d92ef434-7a2e-44e6-a2cd-b16f0a101f36",
     "showTitle": false,
     "title": ""
    }
   },
   "outputs": [
    {
     "output_type": "stream",
     "name": "stdout",
     "output_type": "stream",
     "text": [
      "Out[19]: 23"
     ]
    }
   ],
   "source": [
    "unique_names.count()"
   ]
  },
  {
   "cell_type": "code",
   "execution_count": 0,
   "metadata": {
    "application/vnd.databricks.v1+cell": {
     "cellMetadata": {
      "byteLimit": 2048000,
      "rowLimit": 10000
     },
     "inputWidgets": {},
     "nuid": "86496212-638c-4b9c-b0da-eb97b73bf702",
     "showTitle": false,
     "title": ""
    }
   },
   "outputs": [
    {
     "output_type": "stream",
     "name": "stdout",
     "output_type": "stream",
     "text": [
      "Out[21]: 42143"
     ]
    }
   ],
   "source": [
    "origin_data.count()"
   ]
  },
  {
   "cell_type": "code",
   "execution_count": 0,
   "metadata": {
    "application/vnd.databricks.v1+cell": {
     "cellMetadata": {
      "byteLimit": 2048000,
      "rowLimit": 10000
     },
     "inputWidgets": {},
     "nuid": "24174e70-35db-4c2c-ac7a-2276d595f7d9",
     "showTitle": false,
     "title": ""
    }
   },
   "outputs": [],
   "source": [
    "# Save the DataFrame as a single CSV file\n",
    "origin_data.write.saveAsTable(\"hive_metastore.default.output_data\")"
   ]
  },
  {
   "cell_type": "markdown",
   "metadata": {
    "application/vnd.databricks.v1+cell": {
     "cellMetadata": {},
     "inputWidgets": {},
     "nuid": "df8362b7-a85c-434f-b3b0-f84130d66053",
     "showTitle": false,
     "title": ""
    }
   },
   "source": [
    "<h2>Classification Task</h2>"
   ]
  },
  {
   "cell_type": "code",
   "execution_count": 0,
   "metadata": {
    "application/vnd.databricks.v1+cell": {
     "cellMetadata": {
      "byteLimit": 2048000,
      "implicitDf": true,
      "rowLimit": 10000
     },
     "inputWidgets": {},
     "nuid": "77e8940e-3874-49ca-b3ec-01c3458bae4d",
     "showTitle": false,
     "title": ""
    }
   },
   "outputs": [
    {
     "output_type": "display_data",
     "data": {
      "text/html": [
       "<style scoped>\n",
       "  .table-result-container {\n",
       "    max-height: 300px;\n",
       "    overflow: auto;\n",
       "  }\n",
       "  table, th, td {\n",
       "    border: 1px solid black;\n",
       "    border-collapse: collapse;\n",
       "  }\n",
       "  th, td {\n",
       "    padding: 5px;\n",
       "  }\n",
       "  th {\n",
       "    text-align: left;\n",
       "  }\n",
       "</style><div class='table-result-container'><table class='table-result'><thead style='background-color: white'><tr><th>id</th><th>year</th><th>article</th><th>theme</th></tr></thead><tbody><tr><td>IT000001</td><td>1802</td><td>extrait des procès-verbaux des séances du conseil</td><td>conseil d'administration</td></tr><tr><td>IT000003</td><td>1802</td><td>extrait d'un rapport fait à la société d encouragement, au nom du comité des arts mécaniques, par le c. molard, sur les machines a filer la soie</td><td>arts mécaniques</td></tr><tr><td>IT000004</td><td>1802</td><td>procédé pour presser et former les chapeaux de paille</td><td>arts mécaniques</td></tr><tr><td>IT000005</td><td>1802</td><td>rapport fait , au nom du comité des arts mécaniques , sur la proposition du c. relative a un nouveau genre de construction, navale</td><td>arts mécaniques</td></tr><tr><td>IT000006</td><td>1802</td><td>rapport fait par le c. conte, au nom du comité des arts chimiques sur les peaux et taffetas vernis du c'. meullersten</td><td>arts chimiques</td></tr></tbody></table></div>"
      ]
     },
     "metadata": {
      "application/vnd.databricks.v1+output": {
       "addedWidgets": {},
       "aggData": [],
       "aggError": "",
       "aggOverflow": false,
       "aggSchema": [],
       "aggSeriesLimitReached": false,
       "aggType": "",
       "arguments": {},
       "columnCustomDisplayInfos": {},
       "data": [
        [
         "IT000001",
         "1802",
         "extrait des procès-verbaux des séances du conseil",
         "conseil d'administration"
        ],
        [
         "IT000003",
         "1802",
         "extrait d'un rapport fait à la société d encouragement, au nom du comité des arts mécaniques, par le c. molard, sur les machines a filer la soie",
         "arts mécaniques"
        ],
        [
         "IT000004",
         "1802",
         "procédé pour presser et former les chapeaux de paille",
         "arts mécaniques"
        ],
        [
         "IT000005",
         "1802",
         "rapport fait , au nom du comité des arts mécaniques , sur la proposition du c. relative a un nouveau genre de construction, navale",
         "arts mécaniques"
        ],
        [
         "IT000006",
         "1802",
         "rapport fait par le c. conte, au nom du comité des arts chimiques sur les peaux et taffetas vernis du c'. meullersten",
         "arts chimiques"
        ]
       ],
       "datasetInfos": [],
       "dbfsResultPath": null,
       "isJsonSchema": true,
       "metadata": {},
       "overflow": false,
       "plotOptions": {
        "customPlotOptions": {},
        "displayType": "table",
        "pivotAggregation": null,
        "pivotColumns": null,
        "xColumns": null,
        "yColumns": null
       },
       "removedWidgets": [],
       "schema": [
        {
         "metadata": "{}",
         "name": "id",
         "type": "\"string\""
        },
        {
         "metadata": "{}",
         "name": "year",
         "type": "\"string\""
        },
        {
         "metadata": "{}",
         "name": "article",
         "type": "\"string\""
        },
        {
         "metadata": "{}",
         "name": "theme",
         "type": "\"string\""
        }
       ],
       "type": "table"
      }
     },
     "output_type": "display_data"
    }
   ],
   "source": [
    "%sql\n",
    "select * from hive_metastore.default.output_data limit 5;"
   ]
  },
  {
   "cell_type": "code",
   "execution_count": 0,
   "metadata": {
    "application/vnd.databricks.v1+cell": {
     "cellMetadata": {
      "byteLimit": 2048000,
      "rowLimit": 10000
     },
     "inputWidgets": {},
     "nuid": "f979feff-64d1-4815-a5d9-3a4aab78e487",
     "showTitle": false,
     "title": ""
    }
   },
   "outputs": [
    {
     "output_type": "stream",
     "name": "stdout",
     "output_type": "stream",
     "text": [
      "+--------+----+--------------------+--------------------+\n|      id|year|             article|               theme|\n+--------+----+--------------------+--------------------+\n|IT000001|1802|extrait des procè...|conseil d'adminis...|\n|IT000003|1802|extrait d'un rapp...|     arts mécaniques|\n|IT000004|1802|procédé pour pres...|     arts mécaniques|\n|IT000005|1802|rapport fait , au...|     arts mécaniques|\n|IT000006|1802|rapport fait par ...|      arts chimiques|\n|IT000007|1802|sur l'éducation d...|         agriculture|\n|IT000008|1802|     rats des champs|         agriculture|\n|IT000009|1802|            arachide|         agriculture|\n|IT000010|1802|traitê des constr...|         agriculture|\n|IT000012|1802|nouveau fourneau ...|    arts économiques|\n|IT000013|1802|extrait du rappor...|    arts économiques|\n|IT000014|1802|notice sur une fo...|    arts économiques|\n|IT000015|1802|fourneaux économi...|    arts économiques|\n|IT000016|1802|tableau des princ...|    arts économiques|\n|IT000017|1802|ouvrages périodiq...|    arts économiques|\n|IT000018|1802|livres principaux...|    arts économiques|\n|IT000019|1802|extrait de rassem...|conseil d'adminis...|\n|IT000020|1802|pour la commissio...|conseil d'adminis...|\n|IT000021|1802|pour les arts méc...|conseil d'adminis...|\n|IT000022|1802|pour les arts chi...|conseil d'adminis...|\n+--------+----+--------------------+--------------------+\nonly showing top 20 rows\n\n"
     ]
    }
   ],
   "source": [
    "data = _sqldf\n",
    "data.show()"
   ]
  },
  {
   "cell_type": "code",
   "execution_count": 0,
   "metadata": {
    "application/vnd.databricks.v1+cell": {
     "cellMetadata": {
      "byteLimit": 2048000,
      "rowLimit": 10000
     },
     "inputWidgets": {},
     "nuid": "a0bb7e16-7c2e-41a8-8a71-7dab1d57bedb",
     "showTitle": false,
     "title": ""
    }
   },
   "outputs": [],
   "source": [
    "from pyspark.ml.feature import RegexTokenizer, StopWordsRemover\n",
    "from pyspark.ml.feature import CountVectorizer, StringIndexer\n",
    "from pyspark.sql.functions import col\n",
    "from pyspark.ml.classification import LogisticRegression, RandomForestClassifier, DecisionTreeClassifier, MultilayerPerceptronClassifier\n",
    "from pyspark.ml import Pipeline\n",
    "from pyspark.ml.evaluation import MulticlassClassificationEvaluator, Evaluator\n",
    "\n",
    "def data_preparation(data):\n",
    "    # Remove irrelevant columns\n",
    "    data = data.drop(\"id\", \"year\")\n",
    "\n",
    "    # Handle missing values\n",
    "    data = data.na.drop()\n",
    "\n",
    "    # Remove duplicates\n",
    "    data = data.dropDuplicates()\n",
    "\n",
    "    # Tokenize text\n",
    "    tokenizer = RegexTokenizer(inputCol=\"article\", outputCol=\"tokens\", pattern=r\"\\W\")\n",
    "    data = tokenizer.transform(data)\n",
    "\n",
    "    # Remove stopwords\n",
    "    custom_stopwords = StopWordsRemover.loadDefaultStopWords(\"french\")\n",
    "    stopwords_remover = StopWordsRemover(inputCol=\"tokens\", outputCol=\"clean_tokens\", stopWords=custom_stopwords)\n",
    "    data = stopwords_remover.transform(data)\n",
    "\n",
    "    # Create Word2Vec model\n",
    "    word2Vec = Word2Vec(vectorSize=100, inputCol='clean_tokens', outputCol='embeddings')\n",
    "    model = word2Vec.fit(data)\n",
    "    data = model.transform(data)  \n",
    "    \n",
    "    # labels\n",
    "    indexer = StringIndexer(inputCol='theme', outputCol='label')\n",
    "    index = indexer.fit(data)\n",
    "    data = index.transform(data)\n",
    "    data = data.withColumn('label', col('label').cast('integer'))\n",
    "    \n",
    "    # Remove irrelevant columns\n",
    "    data = data.drop(\"tokens\", \"article\", \"clean_tokens\", \"theme\")\n",
    "\n",
    "    return data\n"
   ]
  },
  {
   "cell_type": "code",
   "execution_count": 0,
   "metadata": {
    "application/vnd.databricks.v1+cell": {
     "cellMetadata": {
      "byteLimit": 2048000,
      "rowLimit": 10000
     },
     "inputWidgets": {},
     "nuid": "7230717e-ff02-4dbc-b320-4de3b6667f3b",
     "showTitle": false,
     "title": ""
    }
   },
   "outputs": [
    {
     "output_type": "stream",
     "name": "stdout",
     "output_type": "stream",
     "text": [
      "+--------------------+-----+\n|          embeddings|label|\n+--------------------+-----+\n|[-0.1168406947205...|    4|\n|[0.00993136857869...|    2|\n|[-0.0022543733133...|    3|\n|[-0.0588752850890...|    2|\n|[0.02113899899025...|    5|\n|[-0.1296595986110...|    0|\n|[-0.0168820265680...|    2|\n|[-0.0640184443592...|    4|\n|[0.0,0.0,0.0,0.0,...|    2|\n|[-0.0046440579462...|    0|\n|[-0.0459612850099...|    2|\n|[-0.0638084095687...|    0|\n|[-0.0249059563429...|    3|\n|[-0.0020905952454...|    2|\n|[-0.0149175603874...|    2|\n|[-0.0454251370392...|    0|\n|[0.02296326081601...|   14|\n|[-0.0333620670717...|    2|\n|[-0.0535490322016...|   14|\n|[-0.0190738588571...|    0|\n+--------------------+-----+\nonly showing top 20 rows\n\n"
     ]
    }
   ],
   "source": [
    "data = data_preparation(data)\n",
    "data.show()"
   ]
  },
  {
   "cell_type": "code",
   "execution_count": 0,
   "metadata": {
    "application/vnd.databricks.v1+cell": {
     "cellMetadata": {
      "byteLimit": 2048000,
      "rowLimit": 10000
     },
     "inputWidgets": {},
     "nuid": "27d36c1a-d981-490c-8ac4-df942282fd31",
     "showTitle": false,
     "title": ""
    }
   },
   "outputs": [
    {
     "output_type": "stream",
     "name": "stdout",
     "output_type": "stream",
     "text": [
      "Accuracy: 0.8699941736259468\n"
     ]
    }
   ],
   "source": [
    "# Step 1: Data Preparation\n",
    "data = _sqldf\n",
    "data = data_preparation(data)\n",
    "\n",
    "# Step 2: Split the Data\n",
    "train_data, test_data = data.randomSplit([0.7, 0.3])\n",
    "\n",
    "# Step 3: Select a Classification Algorithm\n",
    "lr = LogisticRegression(featuresCol='embeddings', labelCol='label')\n",
    "\n",
    "# Step 4: Train the Model\n",
    "model = lr.fit(train_data)\n",
    "\n",
    "# Step 5: Evaluate the Model\n",
    "predictions = model.transform(test_data)\n",
    "evaluator = MulticlassClassificationEvaluator(labelCol='label', predictionCol='prediction', metricName='accuracy')\n",
    "accuracy = evaluator.evaluate(predictions)\n",
    "print(f\"Accuracy: {accuracy}\")"
   ]
  },
  {
   "cell_type": "markdown",
   "metadata": {
    "application/vnd.databricks.v1+cell": {
     "cellMetadata": {},
     "inputWidgets": {},
     "nuid": "c431d6f4-e1da-4aae-ac48-a0ca196ac2c5",
     "showTitle": false,
     "title": ""
    }
   },
   "source": [
    "<h2>Analysis Task</h2>"
   ]
  },
  {
   "cell_type": "code",
   "execution_count": 0,
   "metadata": {
    "application/vnd.databricks.v1+cell": {
     "cellMetadata": {
      "byteLimit": 2048000,
      "rowLimit": 10000
     },
     "inputWidgets": {},
     "nuid": "b427efec-d841-48ba-9cdb-a3227bcba5ea",
     "showTitle": false,
     "title": ""
    }
   },
   "outputs": [
    {
     "output_type": "stream",
     "name": "stdout",
     "output_type": "stream",
     "text": [
      "+--------+----+--------------------+--------------------+\n|      id|year|             article|               theme|\n+--------+----+--------------------+--------------------+\n|IT000001|1802|extrait des procè...|conseil d'adminis...|\n|IT000003|1802|extrait d'un rapp...|     arts mécaniques|\n|IT000004|1802|procédé pour pres...|     arts mécaniques|\n|IT000005|1802|rapport fait , au...|     arts mécaniques|\n|IT000006|1802|rapport fait par ...|      arts chimiques|\n|IT000007|1802|sur l'éducation d...|         agriculture|\n|IT000008|1802|     rats des champs|         agriculture|\n|IT000009|1802|            arachide|         agriculture|\n|IT000010|1802|traitê des constr...|         agriculture|\n|IT000012|1802|nouveau fourneau ...|    arts économiques|\n|IT000013|1802|extrait du rappor...|    arts économiques|\n|IT000014|1802|notice sur une fo...|    arts économiques|\n|IT000015|1802|fourneaux économi...|    arts économiques|\n|IT000016|1802|tableau des princ...|    arts économiques|\n|IT000017|1802|ouvrages périodiq...|    arts économiques|\n|IT000018|1802|livres principaux...|    arts économiques|\n|IT000019|1802|extrait de rassem...|conseil d'adminis...|\n|IT000020|1802|pour la commissio...|conseil d'adminis...|\n|IT000021|1802|pour les arts méc...|conseil d'adminis...|\n|IT000022|1802|pour les arts chi...|conseil d'adminis...|\n+--------+----+--------------------+--------------------+\nonly showing top 20 rows\n\n"
     ]
    }
   ],
   "source": [
    "data = _sqldf\n",
    "data.show()"
   ]
  },
  {
   "cell_type": "code",
   "execution_count": 0,
   "metadata": {
    "application/vnd.databricks.v1+cell": {
     "cellMetadata": {
      "byteLimit": 2048000,
      "rowLimit": 10000
     },
     "inputWidgets": {},
     "nuid": "49a1ed4f-dcfa-424f-be80-937d5e78f311",
     "showTitle": false,
     "title": ""
    }
   },
   "outputs": [],
   "source": [
    "import matplotlib.pyplot as plt\n",
    "import pandas as pd\n",
    "from pyspark.sql.functions import desc, rank\n",
    "from pyspark.sql.window import Window\n",
    "\n",
    "# Step 1: Group by year and theme, and count the occurrences\n",
    "grouped_data = data.groupBy('year', 'theme').count()\n",
    "\n",
    "# Step 2: Rank the themes within each year based on the count\n",
    "window_spec = Window.partitionBy('year').orderBy(desc('count'))\n",
    "ranked_data = grouped_data.withColumn('rank', rank().over(window_spec))\n",
    "\n",
    "# Step 3: Filter the top three themes for each year\n",
    "filtered_data = ranked_data.filter(ranked_data.rank <= 3)\n",
    "\n",
    "# Step 4: Convert the filtered data into a DataFrame\n",
    "df = filtered_data.toPandas()\n"
   ]
  },
  {
   "cell_type": "code",
   "execution_count": 0,
   "metadata": {
    "application/vnd.databricks.v1+cell": {
     "cellMetadata": {
      "byteLimit": 2048000,
      "rowLimit": 10000
     },
     "inputWidgets": {},
     "nuid": "bf431d06-4060-4bdf-81f4-49c57b20ca83",
     "showTitle": false,
     "title": ""
    }
   },
   "outputs": [
    {
     "output_type": "display_data",
     "data": {
      "text/html": [
       "<div>\n",
       "<style scoped>\n",
       "    .dataframe tbody tr th:only-of-type {\n",
       "        vertical-align: middle;\n",
       "    }\n",
       "\n",
       "    .dataframe tbody tr th {\n",
       "        vertical-align: top;\n",
       "    }\n",
       "\n",
       "    .dataframe thead th {\n",
       "        text-align: right;\n",
       "    }\n",
       "</style>\n",
       "<table border=\"1\" class=\"dataframe\">\n",
       "  <thead>\n",
       "    <tr style=\"text-align: right;\">\n",
       "      <th></th>\n",
       "      <th>year</th>\n",
       "      <th>theme</th>\n",
       "      <th>count</th>\n",
       "      <th>rank</th>\n",
       "    </tr>\n",
       "  </thead>\n",
       "  <tbody>\n",
       "    <tr>\n",
       "      <th>0</th>\n",
       "      <td>1802</td>\n",
       "      <td>arts chimiques</td>\n",
       "      <td>33</td>\n",
       "      <td>1</td>\n",
       "    </tr>\n",
       "    <tr>\n",
       "      <th>1</th>\n",
       "      <td>1802</td>\n",
       "      <td>arts mécaniques</td>\n",
       "      <td>28</td>\n",
       "      <td>2</td>\n",
       "    </tr>\n",
       "    <tr>\n",
       "      <th>2</th>\n",
       "      <td>1802</td>\n",
       "      <td>arts économiques</td>\n",
       "      <td>20</td>\n",
       "      <td>3</td>\n",
       "    </tr>\n",
       "    <tr>\n",
       "      <th>3</th>\n",
       "      <td>1803</td>\n",
       "      <td>arts chimiques</td>\n",
       "      <td>45</td>\n",
       "      <td>1</td>\n",
       "    </tr>\n",
       "    <tr>\n",
       "      <th>4</th>\n",
       "      <td>1803</td>\n",
       "      <td>arts mécaniques</td>\n",
       "      <td>18</td>\n",
       "      <td>2</td>\n",
       "    </tr>\n",
       "  </tbody>\n",
       "</table>\n",
       "</div>"
      ]
     },
     "metadata": {
      "application/vnd.databricks.v1+output": {
       "addedWidgets": {},
       "arguments": {},
       "data": "<div>\n<style scoped>\n    .dataframe tbody tr th:only-of-type {\n        vertical-align: middle;\n    }\n\n    .dataframe tbody tr th {\n        vertical-align: top;\n    }\n\n    .dataframe thead th {\n        text-align: right;\n    }\n</style>\n<table border=\"1\" class=\"dataframe\">\n  <thead>\n    <tr style=\"text-align: right;\">\n      <th></th>\n      <th>year</th>\n      <th>theme</th>\n      <th>count</th>\n      <th>rank</th>\n    </tr>\n  </thead>\n  <tbody>\n    <tr>\n      <th>0</th>\n      <td>1802</td>\n      <td>arts chimiques</td>\n      <td>33</td>\n      <td>1</td>\n    </tr>\n    <tr>\n      <th>1</th>\n      <td>1802</td>\n      <td>arts mécaniques</td>\n      <td>28</td>\n      <td>2</td>\n    </tr>\n    <tr>\n      <th>2</th>\n      <td>1802</td>\n      <td>arts économiques</td>\n      <td>20</td>\n      <td>3</td>\n    </tr>\n    <tr>\n      <th>3</th>\n      <td>1803</td>\n      <td>arts chimiques</td>\n      <td>45</td>\n      <td>1</td>\n    </tr>\n    <tr>\n      <th>4</th>\n      <td>1803</td>\n      <td>arts mécaniques</td>\n      <td>18</td>\n      <td>2</td>\n    </tr>\n  </tbody>\n</table>\n</div>",
       "datasetInfos": [],
       "metadata": {},
       "removedWidgets": [],
       "textData": null,
       "type": "htmlSandbox"
      }
     },
     "output_type": "display_data"
    }
   ],
   "source": [
    "df.head()"
   ]
  },
  {
   "cell_type": "code",
   "execution_count": 0,
   "metadata": {
    "application/vnd.databricks.v1+cell": {
     "cellMetadata": {
      "byteLimit": 2048000,
      "rowLimit": 10000
     },
     "inputWidgets": {},
     "nuid": "790ef60d-53bf-4277-8d40-f46e82eb9b37",
     "showTitle": false,
     "title": ""
    }
   },
   "outputs": [],
   "source": [
    "df_1802 = df[df['year'] == '1802']\n",
    "df_1825 = df[df['year'] == '1825']\n",
    "df_1850 = df[df['year'] == '1850']\n",
    "df_1875 = df[df['year'] == '1875']\n",
    "df_1910 = df[df['year'] == '1910']"
   ]
  },
  {
   "cell_type": "code",
   "execution_count": 0,
   "metadata": {
    "application/vnd.databricks.v1+cell": {
     "cellMetadata": {},
     "inputWidgets": {},
     "nuid": "9cdb03bd-2557-4905-b7e9-c392d3ce75e2",
     "showTitle": false,
     "title": ""
    }
   },
   "outputs": [],
   "source": []
  },
  {
   "cell_type": "code",
   "execution_count": 0,
   "metadata": {
    "application/vnd.databricks.v1+cell": {
     "cellMetadata": {
      "byteLimit": 2048000,
      "rowLimit": 10000
     },
     "inputWidgets": {},
     "nuid": "0886059a-4f39-4843-8d9d-61c3b76e63aa",
     "showTitle": false,
     "title": ""
    }
   },
   "outputs": [
    {
     "output_type": "display_data",
     "data": {
      "text/html": [
       "<div>\n",
       "<style scoped>\n",
       "    .dataframe tbody tr th:only-of-type {\n",
       "        vertical-align: middle;\n",
       "    }\n",
       "\n",
       "    .dataframe tbody tr th {\n",
       "        vertical-align: top;\n",
       "    }\n",
       "\n",
       "    .dataframe thead th {\n",
       "        text-align: right;\n",
       "    }\n",
       "</style>\n",
       "<table border=\"1\" class=\"dataframe\">\n",
       "  <thead>\n",
       "    <tr style=\"text-align: right;\">\n",
       "      <th></th>\n",
       "      <th>year</th>\n",
       "      <th>theme</th>\n",
       "      <th>count</th>\n",
       "      <th>rank</th>\n",
       "    </tr>\n",
       "  </thead>\n",
       "  <tbody>\n",
       "    <tr>\n",
       "      <th>0</th>\n",
       "      <td>1802</td>\n",
       "      <td>arts chimiques</td>\n",
       "      <td>33</td>\n",
       "      <td>1</td>\n",
       "    </tr>\n",
       "    <tr>\n",
       "      <th>1</th>\n",
       "      <td>1802</td>\n",
       "      <td>arts mécaniques</td>\n",
       "      <td>28</td>\n",
       "      <td>2</td>\n",
       "    </tr>\n",
       "    <tr>\n",
       "      <th>2</th>\n",
       "      <td>1802</td>\n",
       "      <td>arts économiques</td>\n",
       "      <td>20</td>\n",
       "      <td>3</td>\n",
       "    </tr>\n",
       "    <tr>\n",
       "      <th>70</th>\n",
       "      <td>1825</td>\n",
       "      <td>arts mécaniques</td>\n",
       "      <td>89</td>\n",
       "      <td>1</td>\n",
       "    </tr>\n",
       "    <tr>\n",
       "      <th>71</th>\n",
       "      <td>1825</td>\n",
       "      <td>arts chimiques</td>\n",
       "      <td>34</td>\n",
       "      <td>2</td>\n",
       "    </tr>\n",
       "    <tr>\n",
       "      <th>72</th>\n",
       "      <td>1825</td>\n",
       "      <td>industriel</td>\n",
       "      <td>31</td>\n",
       "      <td>3</td>\n",
       "    </tr>\n",
       "    <tr>\n",
       "      <th>146</th>\n",
       "      <td>1850</td>\n",
       "      <td>industriel</td>\n",
       "      <td>222</td>\n",
       "      <td>1</td>\n",
       "    </tr>\n",
       "    <tr>\n",
       "      <th>147</th>\n",
       "      <td>1850</td>\n",
       "      <td>arts mécaniques</td>\n",
       "      <td>93</td>\n",
       "      <td>2</td>\n",
       "    </tr>\n",
       "    <tr>\n",
       "      <th>148</th>\n",
       "      <td>1850</td>\n",
       "      <td>arts économiques</td>\n",
       "      <td>41</td>\n",
       "      <td>3</td>\n",
       "    </tr>\n",
       "    <tr>\n",
       "      <th>221</th>\n",
       "      <td>1875</td>\n",
       "      <td>industriel</td>\n",
       "      <td>72</td>\n",
       "      <td>1</td>\n",
       "    </tr>\n",
       "    <tr>\n",
       "      <th>222</th>\n",
       "      <td>1875</td>\n",
       "      <td>arts économiques</td>\n",
       "      <td>53</td>\n",
       "      <td>2</td>\n",
       "    </tr>\n",
       "    <tr>\n",
       "      <th>223</th>\n",
       "      <td>1875</td>\n",
       "      <td>conseil d'administration</td>\n",
       "      <td>52</td>\n",
       "      <td>3</td>\n",
       "    </tr>\n",
       "    <tr>\n",
       "      <th>327</th>\n",
       "      <td>1910</td>\n",
       "      <td>arts mécaniques</td>\n",
       "      <td>416</td>\n",
       "      <td>1</td>\n",
       "    </tr>\n",
       "    <tr>\n",
       "      <th>328</th>\n",
       "      <td>1910</td>\n",
       "      <td>arts chimiques</td>\n",
       "      <td>272</td>\n",
       "      <td>2</td>\n",
       "    </tr>\n",
       "    <tr>\n",
       "      <th>329</th>\n",
       "      <td>1910</td>\n",
       "      <td>bibliographie</td>\n",
       "      <td>213</td>\n",
       "      <td>3</td>\n",
       "    </tr>\n",
       "  </tbody>\n",
       "</table>\n",
       "</div>"
      ]
     },
     "metadata": {
      "application/vnd.databricks.v1+output": {
       "addedWidgets": {},
       "arguments": {},
       "data": "<div>\n<style scoped>\n    .dataframe tbody tr th:only-of-type {\n        vertical-align: middle;\n    }\n\n    .dataframe tbody tr th {\n        vertical-align: top;\n    }\n\n    .dataframe thead th {\n        text-align: right;\n    }\n</style>\n<table border=\"1\" class=\"dataframe\">\n  <thead>\n    <tr style=\"text-align: right;\">\n      <th></th>\n      <th>year</th>\n      <th>theme</th>\n      <th>count</th>\n      <th>rank</th>\n    </tr>\n  </thead>\n  <tbody>\n    <tr>\n      <th>0</th>\n      <td>1802</td>\n      <td>arts chimiques</td>\n      <td>33</td>\n      <td>1</td>\n    </tr>\n    <tr>\n      <th>1</th>\n      <td>1802</td>\n      <td>arts mécaniques</td>\n      <td>28</td>\n      <td>2</td>\n    </tr>\n    <tr>\n      <th>2</th>\n      <td>1802</td>\n      <td>arts économiques</td>\n      <td>20</td>\n      <td>3</td>\n    </tr>\n    <tr>\n      <th>70</th>\n      <td>1825</td>\n      <td>arts mécaniques</td>\n      <td>89</td>\n      <td>1</td>\n    </tr>\n    <tr>\n      <th>71</th>\n      <td>1825</td>\n      <td>arts chimiques</td>\n      <td>34</td>\n      <td>2</td>\n    </tr>\n    <tr>\n      <th>72</th>\n      <td>1825</td>\n      <td>industriel</td>\n      <td>31</td>\n      <td>3</td>\n    </tr>\n    <tr>\n      <th>146</th>\n      <td>1850</td>\n      <td>industriel</td>\n      <td>222</td>\n      <td>1</td>\n    </tr>\n    <tr>\n      <th>147</th>\n      <td>1850</td>\n      <td>arts mécaniques</td>\n      <td>93</td>\n      <td>2</td>\n    </tr>\n    <tr>\n      <th>148</th>\n      <td>1850</td>\n      <td>arts économiques</td>\n      <td>41</td>\n      <td>3</td>\n    </tr>\n    <tr>\n      <th>221</th>\n      <td>1875</td>\n      <td>industriel</td>\n      <td>72</td>\n      <td>1</td>\n    </tr>\n    <tr>\n      <th>222</th>\n      <td>1875</td>\n      <td>arts économiques</td>\n      <td>53</td>\n      <td>2</td>\n    </tr>\n    <tr>\n      <th>223</th>\n      <td>1875</td>\n      <td>conseil d'administration</td>\n      <td>52</td>\n      <td>3</td>\n    </tr>\n    <tr>\n      <th>327</th>\n      <td>1910</td>\n      <td>arts mécaniques</td>\n      <td>416</td>\n      <td>1</td>\n    </tr>\n    <tr>\n      <th>328</th>\n      <td>1910</td>\n      <td>arts chimiques</td>\n      <td>272</td>\n      <td>2</td>\n    </tr>\n    <tr>\n      <th>329</th>\n      <td>1910</td>\n      <td>bibliographie</td>\n      <td>213</td>\n      <td>3</td>\n    </tr>\n  </tbody>\n</table>\n</div>",
       "datasetInfos": [],
       "metadata": {},
       "removedWidgets": [],
       "textData": null,
       "type": "htmlSandbox"
      }
     },
     "output_type": "display_data"
    }
   ],
   "source": [
    "statics_df = pd.concat([df_1802, df_1825, df_1850, df_1875, df_1910])\n",
    "statics_df"
   ]
  },
  {
   "cell_type": "code",
   "execution_count": 0,
   "metadata": {
    "application/vnd.databricks.v1+cell": {
     "cellMetadata": {
      "byteLimit": 2048000,
      "rowLimit": 10000
     },
     "inputWidgets": {},
     "nuid": "87bc2563-30b1-44db-9612-8a00bb696b71",
     "showTitle": false,
     "title": ""
    }
   },
   "outputs": [
    {
     "output_type": "display_data",
     "data": {
      "image/png": "[encoded data removed]"
     },
     "metadata": {
      "application/vnd.databricks.v1+output": {
       "addedWidgets": {},
       "arguments": {},
       "data": "data:image/png;base64,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\n",
       "datasetInfos": [],
       "metadata": {},
       "removedWidgets": [],
       "type": "image"
      }
     },
     "output_type": "display_data"
    }
   ],
   "source": [
    "# Step 5: Plot the data as a grouped bar chart\n",
    "plt.figure(figsize=(12, 6))\n",
    "\n",
    "# Grouped bar chart parameters\n",
    "bar_width = 0.2\n",
    "opacity = 0.8\n",
    "\n",
    "# Get unique years in the dataset\n",
    "years = sorted(statics_df['year'].unique())\n",
    "\n",
    "# Iterate over each year and plot the top three themes as grouped bars\n",
    "for i, year in enumerate(years):\n",
    "    df_year = statics_df[statics_df['year'] == year].head(3)  # Select top three themes for each year\n",
    "    x = i * 3  # Calculate the x position for each year\n",
    "    \n",
    "    # Plot each theme as a grouped bar\n",
    "    for j, theme in enumerate(df_year['theme']):\n",
    "        y = df_year[df_year['theme'] == theme]['count'].values[0]  # Get the count value\n",
    "        plt.bar(x + j * bar_width, y, bar_width, alpha=opacity, label=theme)\n",
    "\n",
    "# Set the x-axis labels and tick positions\n",
    "plt.xlabel('Year')\n",
    "plt.ylabel('Count')\n",
    "plt.title('Top Three Themes in Each Year')\n",
    "plt.xticks([i * 3 + bar_width for i in range(len(years))], years)\n",
    "plt.legend(title='Theme')\n",
    "plt.tight_layout()\n",
    "\n",
    "# Show the modified plot\n",
    "plt.show()\n"
   ]
  },
  {
   "cell_type": "code",
   "execution_count": 0,
   "metadata": {
    "application/vnd.databricks.v1+cell": {
     "cellMetadata": {},
     "inputWidgets": {},
     "nuid": "ee67be9a-6ced-4438-8db6-ab62f5486356",
     "showTitle": false,
     "title": ""
    }
   },
   "outputs": [],
   "source": []
  }
 ],
 "metadata": {
  "application/vnd.databricks.v1+notebook": {
   "dashboards": [],
   "language": "python",
   "notebookMetadata": {
    "mostRecentlyExecutedCommandWithImplicitDF": {
     "commandId": 748597357492305,
     "dataframes": [
      "_sqldf"
     ]
    },
    "pythonIndentUnit": 4
   },
   "notebookName": "Scraping",
   "widgets": {}
  },
  "kernelspec": {
   "display_name": "Python 3 (ipykernel)",
   "language": "python",
   "name": "python3"
  },
  "language_info": {
   "codemirror_mode": {
    "name": "ipython",
    "version": 3
   },
   "file_extension": ".py",
   "mimetype": "text/x-python",
   "name": "python",
   "nbconvert_exporter": "python",
   "pygments_lexer": "ipython3",
   "version": "3.9.13"
  }
 },
 "nbformat": 4,
 "nbformat_minor": 0
}
